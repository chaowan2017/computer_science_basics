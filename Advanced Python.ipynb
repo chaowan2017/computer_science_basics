{
 "cells": [
  {
   "cell_type": "code",
   "execution_count": 24,
   "metadata": {
    "collapsed": false
   },
   "outputs": [],
   "source": [
    "class A():\n",
    "    def __init__(self):\n",
    "        self._foo = None\n",
    "        \n",
    "    @property\n",
    "    def foo(self):\n",
    "        \n",
    "        return self._foo\n",
    "    \n",
    "    @foo.setter\n",
    "    def foo(self, v):\n",
    "        print(v)\n",
    "        self._foo = v"
   ]
  },
  {
   "cell_type": "code",
   "execution_count": 25,
   "metadata": {
    "collapsed": false
   },
   "outputs": [],
   "source": [
    "a = A()\n",
    "\n",
    "a.foo"
   ]
  },
  {
   "cell_type": "code",
   "execution_count": 29,
   "metadata": {
    "collapsed": false
   },
   "outputs": [
    {
     "name": "stdout",
     "output_type": "stream",
     "text": [
      "haha this is awesome!\n"
     ]
    }
   ],
   "source": [
    "import itertools\n",
    "\n",
    "flatMap = lambda x: list(itertools.chain.from_iterable(x))\n",
    "\n",
    "# now you can do:\n",
    "nested_list = [['haha'], ['this', 'is', 'awesome!']]\n",
    "standard_out = ' '.join(flatMap(nested_list))\n",
    "print(standard_out)"
   ]
  },
  {
   "cell_type": "code",
   "execution_count": null,
   "metadata": {
    "collapsed": true
   },
   "outputs": [],
   "source": []
  }
 ],
 "metadata": {
  "kernelspec": {
   "display_name": "Python [python3]",
   "language": "python",
   "name": "Python [python3]"
  },
  "language_info": {
   "codemirror_mode": {
    "name": "ipython",
    "version": 3
   },
   "file_extension": ".py",
   "mimetype": "text/x-python",
   "name": "python",
   "nbconvert_exporter": "python",
   "pygments_lexer": "ipython3",
   "version": "3.5.2"
  }
 },
 "nbformat": 4,
 "nbformat_minor": 0
}
