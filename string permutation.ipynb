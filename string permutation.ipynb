{
 "cells": [
  {
   "cell_type": "code",
   "execution_count": 54,
   "metadata": {
    "collapsed": false
   },
   "outputs": [],
   "source": [
    "from itertools import chain\n",
    "flatten = lambda x: list(chain.from_iterable(x))\n",
    "\n",
    "def translocate(char_a, string):\n",
    "    return [\n",
    "        string[:i] + char_a + string[i:] for i in range(len(string) + 1)\n",
    "    ]\n",
    "\n",
    "def perm(string):\n",
    "    if len(string) > 1:\n",
    "        return flatten(\n",
    "                [\n",
    "                    translocate(string[0], permuted) for permuted in perm(string[1:])\n",
    "                ]\n",
    "                \n",
    "            )\n",
    "    else:\n",
    "        return [string]"
   ]
  },
  {
   "cell_type": "code",
   "execution_count": 55,
   "metadata": {
    "collapsed": false
   },
   "outputs": [
    {
     "data": {
      "text/plain": [
       "['1']"
      ]
     },
     "execution_count": 55,
     "metadata": {},
     "output_type": "execute_result"
    }
   ],
   "source": [
    "perm('1')"
   ]
  },
  {
   "cell_type": "code",
   "execution_count": 56,
   "metadata": {
    "collapsed": false
   },
   "outputs": [
    {
     "data": {
      "text/plain": [
       "['12', '21']"
      ]
     },
     "execution_count": 56,
     "metadata": {},
     "output_type": "execute_result"
    }
   ],
   "source": [
    "perm('12')"
   ]
  },
  {
   "cell_type": "code",
   "execution_count": 57,
   "metadata": {
    "collapsed": false
   },
   "outputs": [
    {
     "data": {
      "text/plain": [
       "['123', '213', '231', '132', '312', '321']"
      ]
     },
     "execution_count": 57,
     "metadata": {},
     "output_type": "execute_result"
    }
   ],
   "source": [
    "perm('123')"
   ]
  },
  {
   "cell_type": "code",
   "execution_count": 58,
   "metadata": {
    "collapsed": false
   },
   "outputs": [
    {
     "data": {
      "text/plain": [
       "['1234',\n",
       " '2134',\n",
       " '2314',\n",
       " '2341',\n",
       " '1324',\n",
       " '3124',\n",
       " '3214',\n",
       " '3241',\n",
       " '1342',\n",
       " '3142',\n",
       " '3412',\n",
       " '3421',\n",
       " '1243',\n",
       " '2143',\n",
       " '2413',\n",
       " '2431',\n",
       " '1423',\n",
       " '4123',\n",
       " '4213',\n",
       " '4231',\n",
       " '1432',\n",
       " '4132',\n",
       " '4312',\n",
       " '4321']"
      ]
     },
     "execution_count": 58,
     "metadata": {},
     "output_type": "execute_result"
    }
   ],
   "source": [
    "perm('1234')"
   ]
  },
  {
   "cell_type": "code",
   "execution_count": null,
   "metadata": {
    "collapsed": true
   },
   "outputs": [],
   "source": []
  }
 ],
 "metadata": {
  "anaconda-cloud": {},
  "kernelspec": {
   "display_name": "Python [python3]",
   "language": "python",
   "name": "Python [python3]"
  },
  "language_info": {
   "codemirror_mode": {
    "name": "ipython",
    "version": 3
   },
   "file_extension": ".py",
   "mimetype": "text/x-python",
   "name": "python",
   "nbconvert_exporter": "python",
   "pygments_lexer": "ipython3",
   "version": "3.5.2"
  }
 },
 "nbformat": 4,
 "nbformat_minor": 0
}
